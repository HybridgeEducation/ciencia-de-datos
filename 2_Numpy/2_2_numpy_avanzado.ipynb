{
 "cells": [
  {
   "cell_type": "markdown",
   "metadata": {},
   "source": [
    "# Numpy Avanzado\n",
    "\n",
    "![pregunta](./pixel.png)\n",
    "\n",
    "**¿Veradero o Falso?**\n",
    "\n",
    "**¡Exploremos el porqué!**\n",
    "\n",
    "Hemos hasta este punto revisado alguno de los métodos y propiedades básicas de objetos de Numpy. Veamos ahora algunas cosas más interesantes y más “reales”.\n",
    "\n",
    "# Filtrado\n",
    "En la lección anterior aprendeimos acerca de boolean indexing, proceso medianet el cual podemos obtener un numpy array que contiene únicamente True o False a partir de aplicar una comparación u operador lógico a un arreglo de Numpy. Veamos otras formas de filtrar datos.\n",
    "\n",
    "## `np.where`\n",
    "Hemos trabajado con indexación booleana, sin embargo, a veces será útil obtener los índices de elementos que cumplan con alguna condición.\n",
    "\n",
    "La función `np.where` ubica las posiciones de un arreglo en donde la condición es verdadera. Veamos"
   ]
  },
  {
   "cell_type": "code",
   "execution_count": null,
   "metadata": {},
   "outputs": [],
   "source": [
    "import numpy as np"
   ]
  },
  {
   "cell_type": "code",
   "execution_count": null,
   "metadata": {},
   "outputs": [],
   "source": [
    "arr_rand = np.array([8, 8, 3, 7, 7, 0, 4, 2, 5, 2])\n",
    "print(\"Arreglo: \", arr_rand)"
   ]
  },
  {
   "cell_type": "markdown",
   "metadata": {},
   "source": [
    "Con la función where de numpy podemos obtener los índices (posiciones) de los elementos de un arreglo que satisfagan una condición:"
   ]
  },
  {
   "cell_type": "code",
   "execution_count": null,
   "metadata": {},
   "outputs": [],
   "source": [
    "# Obtener índices (posiciones) en los que el valor sea > 5\n",
    "indices_mayores_5 = np.where(arr_rand > 5)\n",
    "print(\"Posiciones en donde el valor > 5:\",indices_mayores_5)"
   ]
  },
  {
   "cell_type": "markdown",
   "metadata": {},
   "source": [
    "Ya que tenemos los índices, podemos extraer los elementos usando `take`"
   ]
  },
  {
   "cell_type": "code",
   "execution_count": null,
   "metadata": {},
   "outputs": [],
   "source": [
    "arr_rand.take(indices_mayores_5)"
   ]
  },
  {
   "cell_type": "markdown",
   "metadata": {},
   "source": [
    "O bien, usamos el vector `indices_mayores_5` para indexar el arreglo"
   ]
  },
  {
   "cell_type": "code",
   "execution_count": null,
   "metadata": {},
   "outputs": [],
   "source": [
    "arr_rand[indices_mayores_5]"
   ]
  },
  {
   "cell_type": "markdown",
   "metadata": {},
   "source": [
    "Obtengamos las posiciones de los valores máximo y mínimo dell arreglo"
   ]
  },
  {
   "cell_type": "code",
   "execution_count": null,
   "metadata": {},
   "outputs": [],
   "source": [
    "print(\"Posición del elemento más grande (max):\", np.argmax(arr_rand))\n",
    "print(\"Posición del elemento más chico  (min):\", np.argmin(arr_rand))"
   ]
  },
  {
   "cell_type": "markdown",
   "metadata": {},
   "source": [
    "**El concepto de índice es de suma importancia en NumPy. Podemos observar que la función where por defecto nos devuelve los índices en lugar de los elementos en sí. Esto podría parecer contraintuitivo a lo que esperaríamos como seres humanos, ya que usualmente buscamos los valores directamente. Sin embargo, la razón de usar índices es que permite una manipulación y acceso eficiente a los elementos en estructuras de datos grandes. Al trabajar con índices, podemos seleccionar, modificar o analizar subconjuntos específicos de datos sin necesidad de recorrer todo el array, lo que optimiza el rendimiento y hace que las operaciones sean más rápidas y flexibles. Además, los índices nos permiten realizar operaciones avanzadas, como seleccionar elementos en múltiples dimensiones o aplicar condiciones complejas de manera precisa y eficiente.**\n",
    "\n",
    "\n",
    "---\n",
    "\n",
    "# Archivos CSV\n",
    "## Importar y exportar datos de archivos CSV\n",
    "Una manera muy habitual de importar conjuntos de datos (les llamaremos **datasets** a partir de ahora) es usando ~~la función~~ el método `np.genfromtxt`. Con este método podemos importar datos de URL's de internet o archivos en nuestra computadora, gestionar los valores faltantes, especificar cómo están delimitados los datos, entre otros.\n",
    "\n",
    "Una versión menos moldeable de esta función es `np.loadtxt`, la cual asume que no hay valores faltantes en el dataset.\n",
    "\n",
    "Descarguemos un archivo csv a un numpy array."
   ]
  },
  {
   "cell_type": "code",
   "execution_count": null,
   "metadata": {},
   "outputs": [],
   "source": [
    "#apagar la notación científica\n",
    "np.set_printoptions(suppress=True)\n",
    "ruta_url = 'https://raw.githubusercontent.com/selva86/datasets/master/Auto.csv'\n",
    "data = np.genfromtxt(ruta_url, delimiter=',', skip_header=1, filling_values=-999, dtype='float')\n",
    "data[:3]"
   ]
  },
  {
   "cell_type": "markdown",
   "metadata": {},
   "source": [
    "**Nota: Recordemos que todos los valores de un numpy array deben ser del mismo tipo de dato. Si vemos el archivo Auto.csv en el navegador, veremos que la última columna (name) es de tipo string, y por lo tanto, numpy iba a imporar este valor como np.nan por defecto. Para evitar esto, utilizamos el parámetro `fillin_values` y le asignamos el valor -999 para que coloque un -999 en todos los valores en los que hubiera colocado nan**\n",
    "\n",
    "¿Cómo hacemos cuando queremos que nuestro arreglo contenga números y texto?\n",
    "En este caso, debemos especificar que el tipo de dato es `object` o `None`"
   ]
  },
  {
   "cell_type": "code",
   "execution_count": null,
   "metadata": {},
   "outputs": [],
   "source": [
    "data2 = np.genfromtxt(ruta_url, delimiter=',', skip_header=1, dtype=None, encoding=None)\n",
    "data2[:3]"
   ]
  },
  {
   "cell_type": "code",
   "execution_count": null,
   "metadata": {},
   "outputs": [],
   "source": [
    "data3 = np.genfromtxt(\"autos.csv\", delimiter=',', skip_header=1, dtype=float, filling_values=-999)\n",
    "data3[:3]"
   ]
  },
  {
   "cell_type": "markdown",
   "metadata": {},
   "source": [
    "Súper. Ahora podemos exportar este array a un archivo csv.\n",
    "\n",
    "**¡Ojo con la ruta en la que guardas tu archivo!**"
   ]
  },
  {
   "cell_type": "code",
   "execution_count": null,
   "metadata": {},
   "outputs": [],
   "source": [
    "np.savetxt(\"out.csv\", data3, delimiter=\",\")"
   ]
  },
  {
   "cell_type": "markdown",
   "metadata": {},
   "source": [
    "--- \n",
    "\n",
    "## Lectura de imágenes\n",
    "\n",
    "![trip](trip.gif)\n",
    "\n",
    "Una imagen es, a fien de cuentas, una matriz de pixeles. Podemos utilizar numpy para leer y transformar los valores de esta matriz. \n",
    "\n",
    "Para visualizar y manipular estas imágenes de manera efectiva, utilizaremos un paquete adicional llamado `Matplotlib`, el cual nos sirve para mostrar las imágenes, crear gráficos, y realizar un análisis visual de los datos. Con Matplotlib, podemos ver el resultado de nuestras transformaciones en tiempo real, lo que facilita la comprensión de cómo las operaciones en la matriz de píxeles afectan la imagen final."
   ]
  },
  {
   "cell_type": "code",
   "execution_count": null,
   "metadata": {},
   "outputs": [],
   "source": [
    "import matplotlib.pyplot as plt "
   ]
  },
  {
   "cell_type": "code",
   "execution_count": null,
   "metadata": {},
   "outputs": [],
   "source": [
    "img = plt.imread('beagle.jpg')"
   ]
  },
  {
   "cell_type": "code",
   "execution_count": null,
   "metadata": {},
   "outputs": [],
   "source": [
    "img.shape"
   ]
  },
  {
   "cell_type": "markdown",
   "metadata": {},
   "source": [
    "¡Ah caray! ¿Cómo que 3 dimensiones? Se supone que una imagen es una matriz de pixeles, y por lo tanto esperaríamos ver dos dimensiones nada más (filas y columnas), pero vemos que esta imagen tiene 3 dimensiones.\n",
    "\n",
    "Abramos la imagen beagle.jpg:\n",
    "\n",
    "![beagle](./beagle.jpg)\n",
    "\n",
    "Si seleccionamos una sola fila de esta imagen, seleccionariamos un conjunto de pixeles:\n",
    "\n",
    "![beagle](./beagle_row.png)\n",
    "\n",
    "Lo mismo para una columna:\n",
    "![beagle](./beagle_col.png)\n",
    "\n",
    "Un pixel no es más que un cuadrado muy muy pequeño de un solo color. Por lo tanto, si hacemos zoom lo más que podamos, llegaremos a un punto en el que tendremos un solo color en la pantalla:\n",
    "\n",
    "![beagle](./beagle_zoom.gif)\n",
    "\n",
    "**Observa cómo al final se alcanzan a distinguir pequeñísimos cuadrados de un solo color**\n",
    "\n",
    "---\n",
    "\n",
    "Esto aún no contesta la pregunta de las 3 dimensiones… filas y columnas son nada más 2 dimensiones. Una tercera dimensión significaría que cada elemento individual de fila o columna no es un elemento simple.\n",
    "\n",
    "Inspeccionemos el array `img`"
   ]
  },
  {
   "cell_type": "code",
   "execution_count": null,
   "metadata": {},
   "outputs": [],
   "source": [
    "img.ndim"
   ]
  },
  {
   "cell_type": "markdown",
   "metadata": {},
   "source": [
    "Veamos lo que hay en la posición 0,0, o sea, primera fila y primera columna:"
   ]
  },
  {
   "cell_type": "code",
   "execution_count": null,
   "metadata": {},
   "outputs": [],
   "source": [
    "img[0,0]"
   ]
  },
  {
   "cell_type": "markdown",
   "metadata": {},
   "source": [
    "![batman](./batman.gif)\n",
    "\n",
    "Cuando tenemos una imagen a color, entonces necesitamos saber de qué color será cada pixel. Aquí es en donde entra en juego el estándar RGB (Red, Green, Blue), el cual dicta que por cada pixel se necesita una combinación de 3 números con valores entre 0 y 255. \n",
    "\n",
    "Cada uno de estos tres números indica la intensidad de cada color rojo, verde o azul:\n",
    "\n",
    "![](rgb.webp)\n",
    "\n",
    "---\n",
    "\n",
    "Entonces veamos nuevamente cuál es el primer pixel de nuestar imagen `beagle.jpg`\n",
    "\n",
    "img[0,0]"
   ]
  },
  {
   "cell_type": "code",
   "execution_count": null,
   "metadata": {},
   "outputs": [],
   "source": [
    "img[0,0]"
   ]
  },
  {
   "cell_type": "markdown",
   "metadata": {},
   "source": [
    "Tenemos los valores:\n",
    "\n",
    "| Color   | RGB  | Valor |\n",
    "| ------- | ---- | ----- |\n",
    "| Rojo    | R    | 255   |\n",
    "| Verde   | G    | 255   |\n",
    "| Azul    | B    | 157   |\n",
    "\n",
    "**¡Compruébalo con el color picker de Google!**\n",
    "\n",
    "Justo de esto trataba la imagen que aparece al principio de la lección:\n",
    "![pixel](pixel.png)\n",
    "\n",
    "Veamos otra imagen"
   ]
  },
  {
   "cell_type": "code",
   "execution_count": null,
   "metadata": {},
   "outputs": [],
   "source": [
    "img2=plt.imread('salchicha.jpg')"
   ]
  },
  {
   "cell_type": "code",
   "execution_count": null,
   "metadata": {},
   "outputs": [],
   "source": [
    "img2.shape"
   ]
  },
  {
   "cell_type": "code",
   "execution_count": null,
   "metadata": {},
   "outputs": [],
   "source": [
    "img2[0,0]"
   ]
  }
 ],
 "metadata": {
  "kernelspec": {
   "display_name": "Python 3 (ipykernel)",
   "language": "python",
   "name": "python3"
  },
  "language_info": {
   "codemirror_mode": {
    "name": "ipython",
    "version": 3
   },
   "file_extension": ".py",
   "mimetype": "text/x-python",
   "name": "python",
   "nbconvert_exporter": "python",
   "pygments_lexer": "ipython3",
   "version": "3.12.3"
  }
 },
 "nbformat": 4,
 "nbformat_minor": 4
}
