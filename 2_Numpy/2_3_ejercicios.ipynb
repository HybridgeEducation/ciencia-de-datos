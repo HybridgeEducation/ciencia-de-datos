{
 "cells": [
  {
   "cell_type": "markdown",
   "metadata": {},
   "source": [
    "# Numpy\n",
    "## Ejercicios prácticos\n",
    "\n",
    "---\n",
    "### Utiliza Python y Numpy para realizar las siguientes operaciones:\n",
    "1. Dado el arreglo `a = np.array([1, 2, 3, 4])`, determina si ninguno de los elementos es cero.\n",
    "2. Dado el arreglo `a = np.array([0, 0, 2, 0])`, determina si contiene algún elemento que no sea cero.\n",
    "3. Analiza el arreglo `a = np.array([1, 2, np.nan, np.inf])` y determina si contiene valores que sean infinitos o valores no numéricos (NaN).\n",
    "4. Dado el arreglo `a = np.array([1, 2, np.inf])`, determina si contiene valores infinitos.\n",
    "5. Dado el arreglo `a = np.array([1, np.nan, 3])`, determina si contiene valores NaN.\n",
    "6. Dados los arreglos `a = np.array([1, 3, 5])` y `b = np.array([2, 3, 4])`, realiza una comparación elemento a elemento contemplando mayor, mayor o igual, menor y menor o igual.\n",
    "7. Crea un arreglo que contenga los valores 1, 7, 13 y 105, y determina la cantidad de memoria que ocupa el arreglo.\n",
    "8. Crea un arreglo de 10 ceros; uno de 10 unos; y uno de 10 cincos.\n",
    "9. Crea un arreglo que contenga todos los números enteros entre 30 y 70.\n",
    "10. Crea un arreglo que contenga los números pares entre 30 y 70.\n",
    "11. Crea una matriz identidad de 3x3.\n",
    "12. Genera un número aleatorio entre 0 y 1.\n",
    "13. Crea un arreglo de 15 números aleatorios tomados de una distribución normal estándar.\n",
    "14. Crea un arreglo con valores entre 15 y 55, e imprime todos los valores excepto el primero y el último.\n",
    "15. Crea un vector (arreglo) de longitud 10 con valores equitativamente distribuidos entre 5 y 50.\n",
    "16. Crea un vector con valores de 0 a 20, y cambia el signo de los números de 9 a 15.\n",
    "17. Convierte el arreglo `a = np.array([1, 2, 3])` a una lista de Python.\n",
    "18. Convierte la lista `l = [1, 2, 3]` a un arreglo de Numpy.\n",
    "19. Dada la matriz `m = np.array([[1, 2], [3, 4]])`, verifica qué números son pares y almacena los resultados en otra matriz.\n",
    "20. Dado el arreglo `m = np.array([[1, 2, 3], [4, 5, 6]])`, encuentra el número de filas y columnas de la matriz."
   ]
  },
  {
   "cell_type": "code",
   "execution_count": 2,
   "metadata": {},
   "outputs": [],
   "source": [
    "import numpy as np"
   ]
  },
  {
   "cell_type": "code",
   "execution_count": null,
   "metadata": {},
   "outputs": [],
   "source": []
  }
 ],
 "metadata": {
  "kernelspec": {
   "display_name": "Python 3 (ipykernel)",
   "language": "python",
   "name": "python3"
  },
  "language_info": {
   "codemirror_mode": {
    "name": "ipython",
    "version": 3
   },
   "file_extension": ".py",
   "mimetype": "text/x-python",
   "name": "python",
   "nbconvert_exporter": "python",
   "pygments_lexer": "ipython3",
   "version": "3.11.4"
  }
 },
 "nbformat": 4,
 "nbformat_minor": 4
}
