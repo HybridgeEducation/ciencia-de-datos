{
 "cells": [
  {
   "cell_type": "markdown",
   "metadata": {},
   "source": [
    "# Grid Search y Hyperparameters\n",
    "\n",
    "Una técnica muy común que empleamos los científicos de datos es probar varios modelos con diferentes parámetros para no tener que estar adivinando.\n",
    "\n",
    "## Hiperparámetros\n",
    "\n",
    "Un hiperparámetro es un parámetro que se establece en un modelo dem achine learning. En otras palabras, son los argumentos que mandamos al constructor de la clase del modelo.\n",
    "\n",
    "~~~python\n",
    "DecisionTreeRegressor(max_leaf_nodes=50, random_state=0)\n",
    "~~~\n",
    "\n",
    "En este caso, `max_leaf_nodes` es un hiperparámetro.\n",
    "\n",
    "Los hiperparámetros controlan el comportamiento del algoritmo de entrenamiento y la estructura del modelo. A diferencia de los parámetros del modelo, que se ajustan durante el entrenamiento (por ejemplo, los pesos en una regresión lineal), los hiperparámetros deben definirse antes de comenzar el entrenamiento.\n",
    "\n",
    "### Ejemplos de Hiperparámetros\n",
    "\n",
    "#### RandomForestRegressor \n",
    "- n_estimators: El número de árboles en el bosque.\n",
    "- max_features: El número de características a considerar al buscar la mejor división.\n",
    "\n",
    "#### GradientBoostingRegressor\n",
    "- n_estimators: El número de etapas de incremento a ejecutar.\n",
    "- learning_rate: Reduce la contribución de cada árbol a esta tasa. Hay un equilibrio entre learning_rate y n_estimators.\n",
    "\n",
    "#### DecisionTreeRegressor\n",
    "- max_depth: La profundidad máxima del árbol.\n",
    "- min_samples_split: El número mínimo de muestras requerido para dividir un nodo interno.\n",
    "\n",
    "#### SVR (Regresor de Máquinas de Vectores de Soporte):\n",
    "- kernel: Especifica el tipo de núcleo a usar en el algoritmo (por ejemplo, linear, rbf).\n",
    "- C: Parámetro de regularización. La fuerza de la regularización es inversamente proporcional a C.\n",
    "\n",
    "\n",
    "---\n",
    "\n",
    "### GridSearch\n",
    "\n",
    "GridSearch (búsqueda en cuadrícula) es una técnica utilizada para encontrar la mejor combinación de hiperparámetros para un modelo. Ajustar correctamente estos hiperparámetros puede mejorar significativamente el rendimiento del modelo.\n",
    "\n",
    "#### Proceso de GridSearch\n",
    "1. Definición de Parámetros: Se especifica un conjunto de hiperparámetros y sus posibles valores. Esto se organiza en una cuadrícula (grid) utilizando un diccionario de Python.\n",
    "\n",
    "2. Entrenamiento y validación: Para cada combinación de hiperparámetros en la cuadrícula, se entrena el modelo y se evalúa su rendimiento utilizando validación cruzada (cross-validation). Esto implica dividir los datos en varias partes, entrenar el modelo en algunas partes y evaluar en las restantes, repitiendo este proceso varias veces.\n",
    "\n",
    "3. Selección del Mejor Modelo: Se selecciona la combinación de hiperparámetros que produce el mejor rendimiento según una métrica de evaluación específica, como el error absoluto medio (Mean Absolute Error, MAE) o la precisión (accuracy).\n",
    "\n",
    "---\n",
    "\n",
    "## Implementación\n",
    "\n",
    "Importaremos pandas como siempre, varios modelos de Scikit Learn y algunas funciones de utilidad."
   ]
  },
  {
   "cell_type": "code",
   "execution_count": null,
   "metadata": {},
   "outputs": [],
   "source": [
    "import pandas as pd\n",
    "from sklearn.model_selection import train_test_split, GridSearchCV\n",
    "from sklearn.ensemble import RandomForestRegressor, GradientBoostingRegressor\n",
    "from sklearn.linear_model import LinearRegression\n",
    "from sklearn.tree import DecisionTreeRegressor\n",
    "from sklearn.svm import SVR\n",
    "from sklearn.metrics import mean_absolute_error\n",
    "import numpy as np"
   ]
  },
  {
   "cell_type": "markdown",
   "metadata": {},
   "source": [
    "Ahora preparamos nuestros datos como ya lo sabemos hacer"
   ]
  },
  {
   "cell_type": "code",
   "execution_count": null,
   "metadata": {},
   "outputs": [],
   "source": [
    "\n",
    "# Cargar datos\n",
    "ruta = './data/melb_data.csv'\n",
    "melbourne_data = pd.read_csv(ruta) \n",
    "\n",
    "# Quitar nulos\n",
    "melbourne_data_filtrada = melbourne_data.dropna(axis=0)\n",
    "\n",
    "# Elegir target (crear y)\n",
    "y = melbourne_data_filtrada.Price\n",
    "\n",
    "# Elegir features\n",
    "melbourne_features = ['Rooms', 'Bathroom', 'Landsize', 'BuildingArea', 'YearBuilt', 'Lattitude', 'Longtitude']\n",
    "\n",
    "# Crear X\n",
    "X = melbourne_data_filtrada[melbourne_features]\n",
    "\n",
    "train_X, val_X, train_y, val_y = train_test_split(X, y, random_state = 0)"
   ]
  },
  {
   "cell_type": "markdown",
   "metadata": {},
   "source": [
    "A continuación, creamos un diccionario que contendrá los modelos que queremos utilizar en nuestro GridSearch"
   ]
  },
  {
   "cell_type": "code",
   "execution_count": null,
   "metadata": {},
   "outputs": [],
   "source": [
    "# Definir los modelos y los parámetros para la búsqueda en grid\n",
    "models = {\n",
    "    'RandomForest': RandomForestRegressor(random_state=1),\n",
    "    'GradientBoosting': GradientBoostingRegressor(random_state=1),\n",
    "    'LinearRegression': LinearRegression(),\n",
    "    'DecisionTree': DecisionTreeRegressor(random_state=1),\n",
    "    'SVR': SVR()\n",
    "}"
   ]
  },
  {
   "cell_type": "markdown",
   "metadata": {},
   "source": [
    "Definimos los hiperparámetros para cada modelo también con un diccionario."
   ]
  },
  {
   "cell_type": "code",
   "execution_count": null,
   "metadata": {},
   "outputs": [],
   "source": [
    "# Definir los parámetros para cada modelo\n",
    "params = {\n",
    "    'RandomForest': {\n",
    "        'n_estimators': [50, 100, 200]\n",
    "    },\n",
    "    'GradientBoosting': {\n",
    "        'n_estimators': [50, 100, 200],\n",
    "        'learning_rate': [0.01, 0.1, 0.2]\n",
    "    },\n",
    "    'LinearRegression': {},\n",
    "    'DecisionTree': {\n",
    "        'max_depth': [None, 10, 20, 30],\n",
    "        'min_samples_split': [2, 5, 10]\n",
    "    },\n",
    "    'SVR': {\n",
    "        'kernel': ['linear', 'rbf'],\n",
    "        'C': [0.1, 1, 10]\n",
    "    }\n",
    "}"
   ]
  },
  {
   "cell_type": "markdown",
   "metadata": {},
   "source": [
    "Ejecutamos el GridSearch"
   ]
  },
  {
   "cell_type": "code",
   "execution_count": null,
   "metadata": {},
   "outputs": [],
   "source": [
    "# Realizar la búsqueda en grid para cada modelo y almacenar los resultados\n",
    "mejores_parametros = {}\n",
    "mejor_score = {}\n",
    "\n",
    "for model_name in models:\n",
    "    print(f\"Ajustando modelo: {model_name}\")\n",
    "    grid_search = GridSearchCV(models[model_name], params[model_name], cv=5, scoring='neg_mean_absolute_error')\n",
    "    grid_search.fit(train_X, train_y)\n",
    "    mejores_parametros[model_name] = grid_search.best_estimator_\n",
    "    mejor_score[model_name] = -grid_search.best_score_\n",
    "    print(f\"Mejores parámetros para {model_name}: {grid_search.best_params_}\")\n",
    "    print(f\"Mejor score de {model_name}: {mejor_score[model_name]}\")\n",
    "    print(\"=============================================\\n\")\n"
   ]
  },
  {
   "cell_type": "markdown",
   "metadata": {},
   "source": [
    "Calcular MAE"
   ]
  },
  {
   "cell_type": "code",
   "execution_count": null,
   "metadata": {},
   "outputs": [],
   "source": [
    "# Evaluar los mejores modelos en el conjunto de validación\n",
    "maes = {}\n",
    "for model_name in mejores_parametros:\n",
    "    preds = mejores_parametros[model_name].predict(val_X)\n",
    "    mae = mean_absolute_error(val_y, preds)\n",
    "    maes[model_name] = mae\n",
    "    print(f\"{model_name} MAE: {mae}\")"
   ]
  },
  {
   "cell_type": "code",
   "execution_count": null,
   "metadata": {},
   "outputs": [],
   "source": [
    "print(f\"Mejor modelo: {min(maes, key=maes.get)} con MAE: {np.min(list(maes.values()))}\")"
   ]
  }
 ],
 "metadata": {
  "kernelspec": {
   "display_name": ".venv",
   "language": "python",
   "name": "python3"
  },
  "language_info": {
   "codemirror_mode": {
    "name": "ipython",
    "version": 3
   },
   "file_extension": ".py",
   "mimetype": "text/x-python",
   "name": "python",
   "nbconvert_exporter": "python",
   "pygments_lexer": "ipython3",
   "version": "3.11.4"
  }
 },
 "nbformat": 4,
 "nbformat_minor": 2
}
