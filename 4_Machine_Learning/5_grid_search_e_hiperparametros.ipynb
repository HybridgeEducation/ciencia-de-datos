{
 "cells": [
  {
   "cell_type": "markdown",
   "metadata": {},
   "source": [
    "# Grid Search y Hyperparameters\n",
    "\n",
    "Una técnica muy común que empleamos los científicos de datos es probar varios modelos con diferentes parámetros para no tener que estar adivinando.\n",
    "\n",
    "## Hiperparámetros\n",
    "\n",
    "Un hiperparámetro es un parámetro que se establece en un modelo dem achine learning. En otras palabras, son los argumentos que mandamos al constructor de la clase del modelo.\n",
    "\n",
    "~~~python\n",
    "DecisionTreeRegressor(max_leaf_nodes=50, random_state=0)\n",
    "~~~\n",
    "\n",
    "En este caso, `max_leaf_nodes` es un hiperparámetro.\n",
    "\n",
    "Los hiperparámetros controlan el comportamiento del algoritmo de entrenamiento y la estructura del modelo. A diferencia de los parámetros del modelo, que se ajustan durante el entrenamiento (por ejemplo, los pesos en una regresión lineal), los hiperparámetros deben definirse antes de comenzar el entrenamiento.\n",
    "\n",
    "### Ejemplos de Hiperparámetros\n",
    "\n",
    "#### RandomForestRegressor \n",
    "- n_estimators: El número de árboles en el bosque.\n",
    "- max_features: El número de características a considerar al buscar la mejor división.\n",
    "\n",
    "#### GradientBoostingRegressor\n",
    "- n_estimators: El número de etapas de incremento a ejecutar.\n",
    "- learning_rate: Reduce la contribución de cada árbol a esta tasa. Hay un equilibrio entre learning_rate y n_estimators.\n",
    "\n",
    "#### DecisionTreeRegressor\n",
    "- max_depth: La profundidad máxima del árbol.\n",
    "- min_samples_split: El número mínimo de muestras requerido para dividir un nodo interno.\n",
    "\n",
    "#### SVR (Regresor de Máquinas de Vectores de Soporte):\n",
    "- kernel: Especifica el tipo de núcleo a usar en el algoritmo (por ejemplo, linear, rbf).\n",
    "- C: Parámetro de regularización. La fuerza de la regularización es inversamente proporcional a C.\n",
    "\n",
    "\n",
    "---\n",
    "\n",
    "### GridSearch\n",
    "\n",
    "GridSearch (búsqueda en cuadrícula) es una técnica utilizada para encontrar la mejor combinación de hiperparámetros para un modelo. Ajustar correctamente estos hiperparámetros puede mejorar significativamente el rendimiento del modelo.\n",
    "\n",
    "#### Proceso de GridSearch\n",
    "1. Definición de Parámetros: Se especifica un conjunto de hiperparámetros y sus posibles valores. Esto se organiza en una cuadrícula (grid) utilizando un diccionario de Python.\n",
    "\n",
    "2. Entrenamiento y validación: Para cada combinación de hiperparámetros en la cuadrícula, se entrena el modelo y se evalúa su rendimiento utilizando validación cruzada (cross-validation). Esto implica dividir los datos en varias partes, entrenar el modelo en algunas partes y evaluar en las restantes, repitiendo este proceso varias veces.\n",
    "\n",
    "3. Selección del Mejor Modelo: Se selecciona la combinación de hiperparámetros que produce el mejor rendimiento según una métrica de evaluación específica, como el error absoluto medio (Mean Absolute Error, MAE) o la precisión (accuracy).\n",
    "\n",
    "---\n",
    "\n",
    "## Implementación\n",
    "\n",
    "Importaremos pandas como siempre, varios modelos de Scikit Learn y algunas funciones de utilidad."
   ]
  },
  {
   "cell_type": "code",
   "execution_count": 2,
   "metadata": {},
   "outputs": [],
   "source": [
    "import pandas as pd\n",
    "from sklearn.model_selection import train_test_split, GridSearchCV\n",
    "from sklearn.ensemble import RandomForestRegressor, GradientBoostingRegressor\n",
    "from sklearn.linear_model import LinearRegression\n",
    "from sklearn.tree import DecisionTreeRegressor\n",
    "from sklearn.svm import SVR\n",
    "from sklearn.metrics import mean_absolute_error\n",
    "import numpy as np"
   ]
  },
  {
   "cell_type": "markdown",
   "metadata": {},
   "source": [
    "Ahora preparamos nuestros datos como ya lo sabemos hacer"
   ]
  },
  {
   "cell_type": "code",
   "execution_count": 3,
   "metadata": {},
   "outputs": [],
   "source": [
    "\n",
    "# Cargar datos\n",
    "ruta = './data/melb_data.csv'\n",
    "melbourne_data = pd.read_csv(ruta) \n",
    "\n",
    "# Quitar nulos\n",
    "melbourne_data_filtrada = melbourne_data.dropna(axis=0)\n",
    "\n",
    "# Elegir target (crear y)\n",
    "y = melbourne_data_filtrada.Price\n",
    "\n",
    "# Elegir features\n",
    "melbourne_features = ['Rooms', 'Bathroom', 'Landsize', 'BuildingArea', 'YearBuilt', 'Lattitude', 'Longtitude']\n",
    "\n",
    "# Crear X\n",
    "X = melbourne_data_filtrada[melbourne_features]\n",
    "\n",
    "train_X, val_X, train_y, val_y = train_test_split(X, y, random_state = 0)"
   ]
  },
  {
   "cell_type": "markdown",
   "metadata": {},
   "source": [
    "A continuación, creamos un diccionario que contendrá los modelos que queremos utilizar en nuestro GridSearch"
   ]
  },
  {
   "cell_type": "code",
   "execution_count": 5,
   "metadata": {},
   "outputs": [],
   "source": [
    "# Definir los modelos y los parámetros para la búsqueda en grid\n",
    "models = {\n",
    "    'RandomForest': RandomForestRegressor(random_state=1),\n",
    "    'GradientBoosting': GradientBoostingRegressor(random_state=1),\n",
    "    'LinearRegression': LinearRegression(),\n",
    "    'DecisionTree': DecisionTreeRegressor(random_state=1),\n",
    "    'SVR': SVR()\n",
    "}"
   ]
  },
  {
   "cell_type": "markdown",
   "metadata": {},
   "source": [
    "Definimos los hiperparámetros para cada modelo también con un diccionario."
   ]
  },
  {
   "cell_type": "code",
   "execution_count": 11,
   "metadata": {},
   "outputs": [],
   "source": [
    "# Definir los parámetros para cada modelo\n",
    "params = {\n",
    "    'RandomForest': {\n",
    "        'n_estimators': [50, 100, 200, 300, 400]\n",
    "    },\n",
    "    'GradientBoosting': {\n",
    "        'n_estimators':  [50, 100, 200, 300],\n",
    "        'learning_rate': [0.01, 0.1, 0.2, 0.3]\n",
    "    },\n",
    "    'LinearRegression': {},\n",
    "    'DecisionTree': {\n",
    "        'max_depth': [None, 10, 20, 30],\n",
    "        'min_samples_split': [2, 5, 10]\n",
    "    },\n",
    "    'SVR': {\n",
    "        'kernel': ['linear', 'rbf'],\n",
    "        'C': [0.1, 1, 10]\n",
    "    }\n",
    "}"
   ]
  },
  {
   "cell_type": "markdown",
   "metadata": {},
   "source": [
    "Ejecutamos el GridSearch"
   ]
  },
  {
   "cell_type": "code",
   "execution_count": 12,
   "metadata": {},
   "outputs": [
    {
     "name": "stdout",
     "output_type": "stream",
     "text": [
      "Ajustando modelo: RandomForest\n",
      "Mejores parámetros para RandomForest: {'n_estimators': 400}\n",
      "Mejor score de RandomForest: 169880.38159345984\n",
      "=============================================\n",
      "\n",
      "Ajustando modelo: GradientBoosting\n",
      "Mejores parámetros para GradientBoosting: {'learning_rate': 0.1, 'n_estimators': 300}\n",
      "Mejor score de GradientBoosting: 174592.0963025433\n",
      "=============================================\n",
      "\n",
      "Ajustando modelo: LinearRegression\n",
      "Mejores parámetros para LinearRegression: {}\n",
      "Mejor score de LinearRegression: 290251.38191731775\n",
      "=============================================\n",
      "\n",
      "Ajustando modelo: DecisionTree\n",
      "Mejores parámetros para DecisionTree: {'max_depth': 10, 'min_samples_split': 10}\n",
      "Mejor score de DecisionTree: 220122.11285312846\n",
      "=============================================\n",
      "\n",
      "Ajustando modelo: SVR\n",
      "Mejores parámetros para SVR: {'C': 10, 'kernel': 'linear'}\n",
      "Mejor score de SVR: 307621.35992987466\n",
      "=============================================\n",
      "\n"
     ]
    }
   ],
   "source": [
    "# Realizar la búsqueda en grid para cada modelo y almacenar los resultados\n",
    "mejores_parametros = {}\n",
    "mejor_score = {}\n",
    "\n",
    "for model_name in models:\n",
    "    print(f\"Ajustando modelo: {model_name}\")\n",
    "    grid_search = GridSearchCV(models[model_name], params[model_name], cv=5, scoring='neg_mean_absolute_error')\n",
    "    grid_search.fit(train_X, train_y)\n",
    "    mejores_parametros[model_name] = grid_search.best_estimator_\n",
    "    mejor_score[model_name] = -grid_search.best_score_\n",
    "    print(f\"Mejores parámetros para {model_name}: {grid_search.best_params_}\")\n",
    "    print(f\"Mejor score de {model_name}: {mejor_score[model_name]}\")\n",
    "    print(\"=============================================\\n\")\n"
   ]
  },
  {
   "cell_type": "markdown",
   "metadata": {},
   "source": [
    "Calcular MAE"
   ]
  },
  {
   "cell_type": "code",
   "execution_count": 14,
   "metadata": {},
   "outputs": [
    {
     "name": "stdout",
     "output_type": "stream",
     "text": [
      "RandomForest MAE: 191361.23202050477\n",
      "GradientBoosting MAE: 191765.81637131286\n",
      "LinearRegression MAE: 301277.67455197877\n",
      "DecisionTree MAE: 240009.5962021359\n",
      "SVR MAE: 325112.52833517385\n"
     ]
    }
   ],
   "source": [
    "# Evaluar los mejores modelos en el conjunto de validación\n",
    "maes = {}\n",
    "for model_name in mejores_parametros:\n",
    "    preds = mejores_parametros[model_name].predict(val_X)\n",
    "    mae = mean_absolute_error(val_y, preds)\n",
    "    maes[model_name] = mae\n",
    "    print(f\"{model_name} MAE: {mae}\")"
   ]
  },
  {
   "cell_type": "code",
   "execution_count": 9,
   "metadata": {},
   "outputs": [
    {
     "name": "stdout",
     "output_type": "stream",
     "text": [
      "Mejor modelo: RandomForest con MAE: 191453.97385363828\n"
     ]
    }
   ],
   "source": [
    "print(f\"Mejor modelo: {min(maes, key=maes.get)} con MAE: {np.min(list(maes.values()))}\")"
   ]
  },
  {
   "cell_type": "code",
   "execution_count": 10,
   "metadata": {},
   "outputs": [
    {
     "data": {
      "text/plain": [
       "Index(['Suburb', 'Address', 'Rooms', 'Type', 'Price', 'Method', 'SellerG',\n",
       "       'Date', 'Distance', 'Postcode', 'Bedroom2', 'Bathroom', 'Car',\n",
       "       'Landsize', 'BuildingArea', 'YearBuilt', 'CouncilArea', 'Lattitude',\n",
       "       'Longtitude', 'Regionname', 'Propertycount'],\n",
       "      dtype='object')"
      ]
     },
     "execution_count": 10,
     "metadata": {},
     "output_type": "execute_result"
    }
   ],
   "source": [
    "melbourne_data.columns"
   ]
  },
  {
   "cell_type": "code",
   "execution_count": 13,
   "metadata": {},
   "outputs": [
    {
     "data": {
      "text/html": [
       "<div>\n",
       "<style scoped>\n",
       "    .dataframe tbody tr th:only-of-type {\n",
       "        vertical-align: middle;\n",
       "    }\n",
       "\n",
       "    .dataframe tbody tr th {\n",
       "        vertical-align: top;\n",
       "    }\n",
       "\n",
       "    .dataframe thead th {\n",
       "        text-align: right;\n",
       "    }\n",
       "</style>\n",
       "<table border=\"1\" class=\"dataframe\">\n",
       "  <thead>\n",
       "    <tr style=\"text-align: right;\">\n",
       "      <th></th>\n",
       "      <th>Car</th>\n",
       "    </tr>\n",
       "  </thead>\n",
       "  <tbody>\n",
       "    <tr>\n",
       "      <th>0</th>\n",
       "      <td>1.0</td>\n",
       "    </tr>\n",
       "    <tr>\n",
       "      <th>1</th>\n",
       "      <td>0.0</td>\n",
       "    </tr>\n",
       "    <tr>\n",
       "      <th>2</th>\n",
       "      <td>0.0</td>\n",
       "    </tr>\n",
       "    <tr>\n",
       "      <th>3</th>\n",
       "      <td>1.0</td>\n",
       "    </tr>\n",
       "    <tr>\n",
       "      <th>4</th>\n",
       "      <td>2.0</td>\n",
       "    </tr>\n",
       "    <tr>\n",
       "      <th>...</th>\n",
       "      <td>...</td>\n",
       "    </tr>\n",
       "    <tr>\n",
       "      <th>13575</th>\n",
       "      <td>2.0</td>\n",
       "    </tr>\n",
       "    <tr>\n",
       "      <th>13576</th>\n",
       "      <td>2.0</td>\n",
       "    </tr>\n",
       "    <tr>\n",
       "      <th>13577</th>\n",
       "      <td>4.0</td>\n",
       "    </tr>\n",
       "    <tr>\n",
       "      <th>13578</th>\n",
       "      <td>5.0</td>\n",
       "    </tr>\n",
       "    <tr>\n",
       "      <th>13579</th>\n",
       "      <td>1.0</td>\n",
       "    </tr>\n",
       "  </tbody>\n",
       "</table>\n",
       "<p>13580 rows × 1 columns</p>\n",
       "</div>"
      ],
      "text/plain": [
       "       Car\n",
       "0      1.0\n",
       "1      0.0\n",
       "2      0.0\n",
       "3      1.0\n",
       "4      2.0\n",
       "...    ...\n",
       "13575  2.0\n",
       "13576  2.0\n",
       "13577  4.0\n",
       "13578  5.0\n",
       "13579  1.0\n",
       "\n",
       "[13580 rows x 1 columns]"
      ]
     },
     "execution_count": 13,
     "metadata": {},
     "output_type": "execute_result"
    }
   ],
   "source": [
    "melbourne_data[['Car']]"
   ]
  },
  {
   "cell_type": "code",
   "execution_count": null,
   "metadata": {},
   "outputs": [],
   "source": []
  }
 ],
 "metadata": {
  "kernelspec": {
   "display_name": "Python 3 (ipykernel)",
   "language": "python",
   "name": "python3"
  },
  "language_info": {
   "codemirror_mode": {
    "name": "ipython",
    "version": 3
   },
   "file_extension": ".py",
   "mimetype": "text/x-python",
   "name": "python",
   "nbconvert_exporter": "python",
   "pygments_lexer": "ipython3",
   "version": "3.11.4"
  }
 },
 "nbformat": 4,
 "nbformat_minor": 4
}
