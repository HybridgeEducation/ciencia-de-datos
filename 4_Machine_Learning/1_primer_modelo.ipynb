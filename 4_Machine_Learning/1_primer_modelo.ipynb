{
 "cells": [
  {
   "cell_type": "markdown",
   "metadata": {},
   "source": [
    "# Primer modelo en Scikit Learn\n",
    "En esta sesión, nos enfocaremos en uno de los aspectos más fascinantes y divertidos de la ciencia de datos: el desarrollo de modelos de machine learning. Utilizaremos una de las bibliotecas más populares y robustas en el ecosistema de Python, `scikit-learn`.\n",
    "\n",
    "## ¿Qué es Machine Learning?\n",
    "\n",
    "Machine learning (o aprendizaje automático o aprendizaje de máquina), es una rama de la inteligencia artificial que permite a las máquinas aprender de los datos y hacer predicciones o tomar decisiones sin ser programadas explícitamente para cada tarea. Esta capacidad de aprender y adaptarse es lo que hace que machine learning sea una herramienta increíblemente poderosa en una amplia variedad de aplicaciones, desde la detección de fraudes hasta el reconocimiento de voz y la personalización de recomendaciones.\n",
    "\n",
    "## Herramientas y Librerías\n",
    "\n",
    "Utilizaremos `scikit-learn`, una biblioteca de Python diseñada para simplificar la implementación de algoritmos de machine learning. Scikit-learn ofrece una amplia gama de herramientas para el preprocesamiento de datos, la selección de modelos, el entrenamiento, la evaluación y la optimización.\n",
    "\n",
    "## Instalación de scikit-learn\n",
    "Este repositorio ya cuenta con sckikit-learn en el archivo requirements.txt, por lo tanto, sólo debes jalar los últimos cambios del repositorio y correr un comando\n",
    "\n",
    "~~~bash\n",
    "git stash\n",
    "git pull\n",
    "source .venv/bin/activate\n",
    "pip install -r requirements.txt\n",
    "~~~\n",
    "\n",
    "Si quisieras instalar scikit-learn en otro entorno virtual, lo puedes hacer con pip\n",
    "\n",
    "~~~bash\n",
    "pip install scikit-learn\n",
    "~~~\n",
    "\n",
    "## Introducción a modelos\n",
    "Comenzaremos con una visión general de cómo funcionan los modelos de machine learning y cómo se utilizan. Esto puede parecer básico, pero no te preocupes, pronto avanzaremos a construir modelos más poderosos.\n",
    "\n",
    "Imaginemos el siguiente escenario\n",
    "\n",
    "Tu primo ha ganado millones de dólares especulando en bienes raíces. Te ha ofrecido convertirse en socio de negocios contigo debido a tu interés en la ciencia de datos. Él aportará el dinero y tú aportarás modelos que puedan predecir el valor de diversas casas.\n",
    "\n",
    "Le preguntas a tu primo cómo ha predicho los valores de las propiedades en el pasado, y dice que es solo intuición. Pero al cuestionarlo más, revela que ha identificado patrones de precios a partir de las casas que ha visto en el pasado y utiliza esos patrones para hacer predicciones sobre nuevas casas que está considerando.\n",
    "\n",
    "Machine learning funciona de la misma manera. Comenzaremos con un modelo llamado **Árbol de Decisión**. Existen modelos más sofisticados que ofrecen predicciones más precisas. Pero los árboles de decisión son fáciles de entender y son el bloque de construcción básico para algunos de los mejores modelos en ciencia de datos.\n",
    "\n",
    "Para simplificar, comenzaremos con el árbol de decisión más sencillo posible.\n",
    "\n",
    "![árbol de decisión](./img/tree1.png)\n",
    "\n",
    "Divide las casas en solo dos categorías. El precio predicho para cualquier casa en consideración es el precio promedio histórico de las casas en la misma categoría.\n",
    "\n",
    "Usamos datos para decidir cómo dividir las casas en dos grupos y luego nuevamente para determinar el precio predicho en cada grupo. Este paso de capturar patrones a partir de los datos se llama **ajuste o entrenamiento del modelo**. Los datos utilizados para ajustar el modelo se llaman **datos de entrenamiento**.\n",
    "\n",
    "\n",
    "## Mejoremos el árbol de decisión\n",
    "![árboles](./img/tree2.png)\n",
    "\n",
    "El árbol de decisión de la izquierda (Árbol de decisión 1) probablemente tenga más sentido, porque captura la realidad de que las casas con más recámaras tienden a venderse a precios más altos. La mayor limitación de este modelo es que no captura la mayoría de los factores que afectan el precio de una casa, como el número de baños, el tamaño del lote, la ubicación, etc.\n",
    "\n",
    "Puedes capturar más factores utilizando un árbol que tenga más \"divisiones\" o \"splits\". Decimos que estos árboles tienen mayor profundidad. Un árbol de decisión que también considere el tamaño total del lote de cada casa podría verse así:\n",
    "\n",
    "![árboles](./img/tree3.png)\n",
    "\n",
    "\n",
    "Predices el precio de cualquier casa siguiendo el árbol de decisión, siempre eligiendo el camino que corresponde a las características de esa casa. El precio predicho para la casa se encuentra en la parte inferior del árbol. El punto en la parte inferior donde hacemos una predicción se llama hoja.\n",
    "\n",
    "Los splits y los valores en las hojas serán determinados por los datos, así que pasemos a revisar los datos con los que trabajaremos.\n",
    "\n",
    "## Análisis exploratorio con pandas\n",
    "Los datos se encuentran en `./data/melb_data.csv` \n",
    "\n",
    "Como ya sabes, el primer paso en cualquier proyecto de machine learning es familiarizarte con los datos. Utilizaremos Pandas para esto. "
   ]
  },
  {
   "cell_type": "code",
   "execution_count": null,
   "metadata": {},
   "outputs": [],
   "source": [
    "import pandas as pd"
   ]
  },
  {
   "cell_type": "markdown",
   "metadata": {},
   "source": [
    "Veremos datos sobre precios de casas en Melbourne, Australia.\n",
    "\n",
    "\n",
    "Cargamos y exploramos los datos con los siguientes comandos:"
   ]
  },
  {
   "cell_type": "code",
   "execution_count": null,
   "metadata": {},
   "outputs": [],
   "source": [
    "# ruta del archivo\n",
    "ruta_archivo = './data/melb_data.csv'\n",
    "\n",
    "# leer el archivo csv a un dataframe\n",
    "melbourne_data = pd.read_csv(ruta_archivo) \n",
    "\n",
    "# mostarr un resumen de los datos\n",
    "melbourne_data.describe()"
   ]
  },
  {
   "cell_type": "markdown",
   "metadata": {},
   "source": [
    "### Interpretación\n",
    "\n",
    "`describe()` nos muestra 8 números para cada columna del dataset. El primer número (count) indica cuántas filas tienen valores no nulos.\n",
    "\n",
    "Los valores faltantes surgen por muchas razones. Por ejemplo, el tamaño de la segunda recámara no se recopilaría al encuestar una casa de una sola recámara. \n",
    "\n",
    "\n",
    "Para interpretar los valores de min, 25%, 50%, 75% y max, imagina ordenar cada columna de menor a mayor valor. El primer valor (el más pequeño) es el min. Si avanzas un cuarto de camino a través de la lista, encontrarás un número que es mayor que el 25% de los valores y menor que el 75% de los valores. Ese es el valor del 25% (\"percentil 25\" o \"segundo cuartil\"). Los percentiles 50 y 75 se definen de manera análoga, y el max es el número más grande.\n",
    "\n",
    "- Mínimo (min): El valor más bajo del conjunto de datos.\n",
    "- Primer cuartil (Q1 o 25%): También conocido como el percentil 25, es el valor debajo del cual se encuentra el 25% de los datos.\n",
    "- Mediana (Q2 o 50%): También conocido como el percentil 50, es el valor que divide al conjunto de datos en dos partes iguales. La mitad de los datos son menores que este valor y la otra mitad es mayor.\n",
    "- Tercer cuartil (Q3 o 75%): También conocido como el percentil 75, es el valor debajo del cual se encuentra el 75% de los datos.\n",
    "- Máximo (max): El valor más alto del conjunto de datos.\n",
    "\n",
    "\n",
    "## Modelado\n",
    "El dataset tiene demasiadas variables para entenderlas todas de una vez, o incluso para imprimirlas de manera ordenada. ¿Cómo podemos reducir la cantidad de datos a algo que podamos comprender?\n",
    "\n",
    "Comenzaremos seleccionando algunas variables utilizando nuestra intuición. \n",
    "\n",
    "Para elegir variables/columnas, necesitaremos ver una lista de todas las columnas en el conjunto de datos. Esto se hace con la propiedad columns del DataFrame."
   ]
  },
  {
   "cell_type": "code",
   "execution_count": null,
   "metadata": {},
   "outputs": [],
   "source": [
    "melbourne_data.columns"
   ]
  },
  {
   "cell_type": "markdown",
   "metadata": {},
   "source": [
    "Los datos tienen algunos valores faltantes. Tomaremos un camino simple por ahora y eliminaremos las casas de nuestro conjunto de datos.\n",
    "\n",
    "El argumento axis en la función dropna especifica si se deben eliminar filas o columnas que contienen valores faltantes.\n",
    "\n",
    "axis=0: Elimina todas las filas que tienen al menos un valor faltante. En este contexto, 0 representa las filas. Es la opción predeterminada.\n",
    "axis=1: Elimina todas las columnas que tienen al menos un valor faltante. En este contexto, 1 representa las columnas."
   ]
  },
  {
   "cell_type": "code",
   "execution_count": null,
   "metadata": {},
   "outputs": [],
   "source": [
    "# dropna elimina los valores faltantes (piensa en na como \"no disponible\")\n",
    "melbourne_data = melbourne_data.dropna(axis=0)"
   ]
  },
  {
   "cell_type": "markdown",
   "metadata": {},
   "source": [
    "## Selección de la variable objetivo (target)\n",
    "\n",
    "**Queremos predecir el precio**\n",
    "\n",
    "Podemos extraer una variable utilizando la notación de punto. Esta columna individual se almacena en una Serie, que es, en términos generales, como un DataFrame con una sola columna de datos.\n",
    "\n",
    "Utilizaremos la notación de punto para seleccionar la columna que queremos predecir. Por convención, el objetivo de predicción se llama `y`. Así que el código que necesitamos para guardar los precios de las casas en los datos de Melbourne es:"
   ]
  },
  {
   "cell_type": "code",
   "execution_count": null,
   "metadata": {},
   "outputs": [],
   "source": [
    "y = melbourne_data.Price"
   ]
  },
  {
   "cell_type": "code",
   "execution_count": null,
   "metadata": {},
   "outputs": [],
   "source": [
    "y.head()"
   ]
  },
  {
   "cell_type": "markdown",
   "metadata": {},
   "source": [
    "## Eligiendo features\n",
    "Las columnas que se ingresan en nuestro modelo (y luego se usan para hacer predicciones) se llaman \"características\" o \"features\". En nuestro caso, esas serían las columnas utilizadas para determinar el precio de la casa. A veces, utilizarás todas las columnas (excepto el target) como features. Otras veces, será mejor usar menos features.\n",
    "\n",
    "Seleccionamos múltiples features proporcionando una lista de nombres de columnas. Cada elemento en esa lista debe ser un string."
   ]
  },
  {
   "cell_type": "code",
   "execution_count": null,
   "metadata": {},
   "outputs": [],
   "source": [
    "melbourne_features = ['Rooms', 'Bathroom', 'Landsize', 'Lattitude', 'Longtitude']"
   ]
  },
  {
   "cell_type": "markdown",
   "metadata": {},
   "source": [
    "Ahora obtendremos un subconjunto del dataset que contenga únicamente estas columnas. Por convención, llamaremos `X` a este dataframe resultante."
   ]
  },
  {
   "cell_type": "code",
   "execution_count": null,
   "metadata": {},
   "outputs": [],
   "source": [
    "X = melbourne_data[melbourne_features]"
   ]
  },
  {
   "cell_type": "markdown",
   "metadata": {},
   "source": [
    "Veamos los datos de `X` con `describe` y `head`"
   ]
  },
  {
   "cell_type": "code",
   "execution_count": null,
   "metadata": {},
   "outputs": [],
   "source": [
    "X.head()"
   ]
  },
  {
   "cell_type": "code",
   "execution_count": null,
   "metadata": {},
   "outputs": [],
   "source": [
    "X.describe()"
   ]
  },
  {
   "cell_type": "markdown",
   "metadata": {},
   "source": [
    "## Construcción del modelo\n",
    "\n",
    "Como mencionamos anteriormente, usaremos `scikit-learn` para crear nuestros modelos. Al codear, esta librería se escribe como `sklearn`. Scikit-learn es, sin duda, la biblioteca más popular para modelar los tipos de datos que normalmente se almacenan en DataFrames.\n",
    "\n",
    "Los pasos para construir y usar un modelo son:\n",
    "\n",
    "- Definir: ¿Qué tipo de modelo será? ¿Un árbol de decisión? ¿Algún otro tipo de modelo? También se especifican otros parámetros del tipo de modelo.\n",
    "- Ajustar: Capturar patrones a partir de los datos proporcionados. Este es el núcleo del modelado.\n",
    "- Predecir: Justo lo que parece.\n",
    "- Evaluar: Determinar qué tan precisas son las predicciones del modelo.\n",
    "\n",
    "Veamos cómo podemos crear un árbol de decisión con `sklearn`\n",
    "\n",
    "---\n",
    "\n",
    "Lo primero será, por supuesto, importar `sklearn`. Sin embargo, no vamos a importar el módulo completo, sino únicamente una clase llamada `DecisionTreeRegressor`."
   ]
  },
  {
   "cell_type": "code",
   "execution_count": null,
   "metadata": {},
   "outputs": [],
   "source": [
    "from sklearn.tree import DecisionTreeRegressor"
   ]
  },
  {
   "cell_type": "markdown",
   "metadata": {},
   "source": [
    "Ahora vamos a crear una instancia de la clase. Notarás que usaremos un argumento `random_state`\n",
    "\n",
    "> ¿Se te ocurre para qué funciona este argumento?"
   ]
  },
  {
   "cell_type": "code",
   "execution_count": null,
   "metadata": {},
   "outputs": [],
   "source": [
    "melbourne_model = DecisionTreeRegressor(random_state=1)"
   ]
  },
  {
   "cell_type": "markdown",
   "metadata": {},
   "source": [
    "Finalmente, ajustaremos nuestro modelo. Usaremos el método `fit` y los argumentos `X` y `y`. \n",
    "\n",
    "Queremos que nuestro modelo se \"aprenda\" el precio de las casas `y` con base en los argumentos de entrada `X`"
   ]
  },
  {
   "cell_type": "code",
   "execution_count": null,
   "metadata": {},
   "outputs": [],
   "source": [
    "melbourne_model.fit(X, y)"
   ]
  },
  {
   "cell_type": "markdown",
   "metadata": {},
   "source": [
    "Muchos modelos de machine learning permiten cierta aleatoriedad en el entrenamiento del modelo. Especificar un número para `random_state` asegura que obtengas los mismos resultados en cada ejecución. Esto se considera una buena práctica. Puedes usar cualquier número, y la calidad del modelo no dependerá significativamente del valor exacto que elijas.\n",
    "\n",
    "Ahora tenemos un modelo ajustado que podemos usar para hacer predicciones.\n",
    "\n",
    "En la práctica, querrás hacer predicciones para nuevas casas que salgan al mercado, en lugar de las casas para las cuales ya tenemos precios. Pero haremos predicciones para las primeras filas de los datos de entrenamiento para ver cómo funciona la función de predicción."
   ]
  },
  {
   "cell_type": "code",
   "execution_count": null,
   "metadata": {},
   "outputs": [],
   "source": [
    "print(\"Prediciendo precios de las siguientes 5 casas:\")\n",
    "print(X.head())\n",
    "print(\"\\nLas predicciones son:\")\n",
    "print(melbourne_model.predict(X.head()))"
   ]
  },
  {
   "cell_type": "markdown",
   "metadata": {},
   "source": [
    "Veamos los datos reales:"
   ]
  },
  {
   "cell_type": "code",
   "execution_count": null,
   "metadata": {},
   "outputs": [],
   "source": [
    "features_con_precio = melbourne_features + [\"Price\"]\n",
    "melbourne_data[features_con_precio].head()"
   ]
  },
  {
   "cell_type": "markdown",
   "metadata": {},
   "source": [
    "Como mencionamos arriba, estas predicciones no tienen mucho chiste porque a fin de cuentas el modelo se entrenó \"viendo\" estos precios. \n",
    "\n",
    "Probemos predecir el precio con datos completamente nuevos.\n",
    "\n",
    "Creemos una casa de 5 recámaras, 4 baños, 190 pies cuadrados y otras coordenadas"
   ]
  },
  {
   "cell_type": "code",
   "execution_count": null,
   "metadata": {},
   "outputs": [],
   "source": [
    "nueva_casa = pd.DataFrame({\n",
    "    'Rooms': [5],\n",
    "    'Bathroom': [4],\n",
    "    'Landsize': [190],\n",
    "    'Lattitude': [-37.8068],\n",
    "    'Longtitude': [144.9954]\n",
    "})\n",
    "\n",
    "prediccion = melbourne_model.predict(nueva_casa)[0]\n",
    "prediccion_formateada = '${:,.2f}'.format(prediccion)\n",
    "print(f'El precio estimado de la casa es: {prediccion_formateada}')"
   ]
  },
  {
   "cell_type": "code",
   "execution_count": null,
   "metadata": {},
   "outputs": [],
   "source": []
  }
 ],
 "metadata": {
  "kernelspec": {
   "display_name": "Python 3 (ipykernel)",
   "language": "python",
   "name": "python3"
  },
  "language_info": {
   "codemirror_mode": {
    "name": "ipython",
    "version": 3
   },
   "file_extension": ".py",
   "mimetype": "text/x-python",
   "name": "python",
   "nbconvert_exporter": "python",
   "pygments_lexer": "ipython3",
   "version": "3.11.4"
  }
 },
 "nbformat": 4,
 "nbformat_minor": 4
}
