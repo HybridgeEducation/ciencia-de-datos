{
 "cells": [
  {
   "cell_type": "markdown",
   "metadata": {},
   "source": [
    "# Análisis exploratorio de incidencia delictiva en México\n",
    "\n",
    "## Descarga los datos\n",
    "Los datos están limpios y listos para descargar [en esta liga](https://drive.google.com/file/d/1yjeD7lH_rhs86xn0XI0fTQtc-9TYNvnA/view?usp=sharing)"
   ]
  },
  {
   "cell_type": "code",
   "execution_count": null,
   "metadata": {},
   "outputs": [],
   "source": [
    "import pandas as pd\n",
    "import matplotlib.pyplot as plt\n",
    "import numpy as np"
   ]
  },
  {
   "cell_type": "code",
   "execution_count": null,
   "metadata": {},
   "outputs": [],
   "source": [
    "df = pd.read_csv('data/delitos.csv')"
   ]
  },
  {
   "cell_type": "code",
   "execution_count": null,
   "metadata": {},
   "outputs": [],
   "source": [
    "df.head()"
   ]
  },
  {
   "cell_type": "code",
   "execution_count": null,
   "metadata": {},
   "outputs": [],
   "source": [
    "df.tipo_delito.unique()"
   ]
  },
  {
   "cell_type": "markdown",
   "metadata": {},
   "source": [
    "#### Ejercicio 1: Elige 3 estados de la república y grafica una serie de tiempo de la frecuencia abosluta de homicidios dolosos de enero 2015 a julio 2019 en estas tres entidades"
   ]
  },
  {
   "cell_type": "code",
   "execution_count": null,
   "metadata": {},
   "outputs": [],
   "source": [
    "#Oaxaca, CDMX, Puebla\n",
    "df_geo = pd.DataFrame({\n",
    "    'clave_entidad': df.clave_entidad.unique(),\n",
    "    'entidad': df.entidad.unique()\n",
    "})\n",
    "df_geo.head()"
   ]
  },
  {
   "cell_type": "code",
   "execution_count": null,
   "metadata": {},
   "outputs": [],
   "source": [
    "#entidades seleccionadoas\n",
    "df_geo[(df_geo.entidad == 'Oaxaca') | (df_geo.entidad == 'Puebla') | (df_geo.entidad == 'Ciudad de México')]"
   ]
  },
  {
   "cell_type": "code",
   "execution_count": null,
   "metadata": {},
   "outputs": [],
   "source": [
    "homicidios_dolosos = df[df.subtipo_delito == 'Homicidio doloso']\n",
    "homicidios_dolosos.head()"
   ]
  },
  {
   "cell_type": "code",
   "execution_count": null,
   "metadata": {},
   "outputs": [],
   "source": [
    "homicidios_dolosos = homicidios_dolosos[(homicidios_dolosos.clave_entidad == 9) | (homicidios_dolosos.clave_entidad == 20) | (homicidios_dolosos.clave_entidad == 21)]\n",
    "homicidios_dolosos.head()"
   ]
  },
  {
   "cell_type": "code",
   "execution_count": null,
   "metadata": {},
   "outputs": [],
   "source": [
    "agregacion_entidad_homicidios = homicidios_dolosos.groupby(['anio','mes', 'clave_entidad', 'entidad']) \\\n",
    "                                                  .agg({'frecuencia': 'sum'}) \\\n",
    "                                                  .reset_index()\n",
    "\n",
    "agregacion_entidad_homicidios['aniomes'] = agregacion_entidad_homicidios.apply(lambda row: int(str(row['anio']) + str(row['mes']).zfill(2)), axis=1)\n",
    "agregacion_entidad_homicidios.head()"
   ]
  },
  {
   "cell_type": "code",
   "execution_count": null,
   "metadata": {},
   "outputs": [],
   "source": [
    "hom_cdmx = agregacion_entidad_homicidios[agregacion_entidad_homicidios.clave_entidad == 9]\n",
    "hom_oax = agregacion_entidad_homicidios[agregacion_entidad_homicidios.clave_entidad == 20]\n",
    "hom_pue = agregacion_entidad_homicidios[agregacion_entidad_homicidios.clave_entidad == 21]"
   ]
  },
  {
   "cell_type": "code",
   "execution_count": null,
   "metadata": {},
   "outputs": [],
   "source": [
    "hom_cdmx.tail()"
   ]
  },
  {
   "cell_type": "code",
   "execution_count": null,
   "metadata": {},
   "outputs": [],
   "source": [
    "plt.figure(figsize=(14,7))\n",
    "plt.plot(range(len(hom_cdmx.aniomes)), hom_cdmx.frecuencia,'b-' ,label=\"CDMX\" )\n",
    "plt.plot(range(len(hom_oax.aniomes)), hom_oax.frecuencia,'r-' ,label=\"Oaxaca\" )\n",
    "plt.plot(range(len(hom_pue.aniomes)), hom_pue.frecuencia,'g-' ,label=\"Puebla\" )\n",
    "plt.xticks(range(len(hom_cdmx.aniomes)), hom_cdmx.aniomes, rotation=90)\n",
    "plt.legend(loc='best')\n",
    "plt.show()"
   ]
  },
  {
   "cell_type": "markdown",
   "metadata": {},
   "source": [
    "#### Ejercicio 2: Contetas las siguientes  preguntas:\n",
    "1. ¿Cuántos homicidios dolosos hubo en Colima en el 2018?\n",
    "2. ¿Cuantos robos de vehículo automotor ha habido en el 2019?\n",
    "3. Obten la suma de homicidos dolosos y feminidios en toda la República Mexicana en cada año.\n",
    "4. ¿En qué mes y en qué municipio ha ocurrido el mayor número de feminicidios?\n",
    "5. ¿En qué año y en qué estado ha ocurrido el mayor número de feminicidios?\n",
    "\n",
    "#### Ejercicio 3: Haz una gráfica de pastel de tipos de delito. Deberás crear una gráfica para cada año. Utilzia la función subplots de matplotlib"
   ]
  },
  {
   "cell_type": "code",
   "execution_count": null,
   "metadata": {},
   "outputs": [],
   "source": [
    "df3 = df.groupby(['anio', 'tipo_delito']).agg({'frecuencia':'sum'}).reset_index()\n",
    "plt.figure(figsize=(14,14))\n",
    "plt.pie(df3[df3.anio == 2015].frecuencia, labels=df3[df3.anio == 2015].tipo_delito)\n",
    "plt.tight_layout()\n",
    "plt.show()"
   ]
  },
  {
   "cell_type": "markdown",
   "metadata": {},
   "source": [
    "---\n",
    "## Tasa por 100,000 habitantes\n",
    "Mostrar el total de delitos en una entidad no nos sirve de mucho. Es mucho más útil calcular la tasa de incidencia delictiva por cada 100,000 habitantes\n",
    "\n",
    "$$\n",
    "tasa = \\frac{delitos\\space totales}{población} \\times 100,000\n",
    "$$\n",
    "\n",
    "Esta tasa la podemos anualizar multiplicándola por un factor de 12\n",
    "$$\n",
    "tasa\\space anualizada = tasa \\times 12\n",
    "$$\n",
    "\n",
    "### Población por entidad federativa según [la encuesta intercensal 2015](https://www.inegi.org.mx/programas/intercensal/2015/)\n",
    "\n",
    "---"
   ]
  },
  {
   "cell_type": "code",
   "execution_count": null,
   "metadata": {},
   "outputs": [],
   "source": [
    "pobs = pd.read_csv('data/poblacion_entidades_2015.csv', encoding='iso-8859-1', sep=\";\")\n",
    "pobs = pobs[['Cve_Entidad', 'Entidad', 'Poblacion']]\n",
    "pobs = pobs.rename(columns={'Cve_Entidad':'clave_entidad', 'Entidad':'entidad', 'Poblacion':'poblacion'})\n",
    "pobs.head()"
   ]
  },
  {
   "cell_type": "code",
   "execution_count": null,
   "metadata": {},
   "outputs": [],
   "source": []
  },
  {
   "cell_type": "code",
   "execution_count": null,
   "metadata": {},
   "outputs": [],
   "source": [
    "df3 = df.groupby(['anio', 'tipo_delito']).agg({'frecuencia':'sum'}).reset_index()\n",
    "df3.groupby(['tipo_delito']).agg({'frecuencia':'sum'}).reset_index().sort_values(['frecuencia']).tipo_delito.values"
   ]
  },
  {
   "cell_type": "code",
   "execution_count": null,
   "metadata": {},
   "outputs": [],
   "source": []
  }
 ],
 "metadata": {
  "kernelspec": {
   "display_name": "Python 3",
   "language": "python",
   "name": "python3"
  },
  "language_info": {
   "codemirror_mode": {
    "name": "ipython",
    "version": 3
   },
   "file_extension": ".py",
   "mimetype": "text/x-python",
   "name": "python",
   "nbconvert_exporter": "python",
   "pygments_lexer": "ipython3",
   "version": "3.6.8"
  }
 },
 "nbformat": 4,
 "nbformat_minor": 2
}
